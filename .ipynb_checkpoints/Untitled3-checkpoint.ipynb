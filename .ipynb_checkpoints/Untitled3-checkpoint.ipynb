{
 "cells": [
  {
   "cell_type": "code",
   "execution_count": 1,
   "id": "d30ef7b7-829d-4d61-94cc-f6ca8b8cee44",
   "metadata": {},
   "outputs": [
    {
     "name": "stdout",
     "output_type": "stream",
     "text": [
      "Requirement already satisfied: Resemblyzer in c:\\users\\migames\\anaconda3\\lib\\site-packages (0.1.3)\n",
      "Requirement already satisfied: numpy>=1.10.1 in c:\\users\\migames\\anaconda3\\lib\\site-packages (from Resemblyzer) (1.21.5)\n",
      "Requirement already satisfied: typing in c:\\users\\migames\\anaconda3\\lib\\site-packages (from Resemblyzer) (3.7.4.3)\n",
      "Requirement already satisfied: librosa>=0.9.1 in c:\\users\\migames\\anaconda3\\lib\\site-packages (from Resemblyzer) (0.9.1)\n",
      "Requirement already satisfied: scipy>=1.2.1 in c:\\users\\migames\\anaconda3\\lib\\site-packages (from Resemblyzer) (1.7.3)\n",
      "Requirement already satisfied: torch>=1.0.1 in c:\\users\\migames\\anaconda3\\lib\\site-packages (from Resemblyzer) (1.13.1)\n",
      "Requirement already satisfied: webrtcvad>=2.0.10 in c:\\users\\migames\\anaconda3\\lib\\site-packages (from Resemblyzer) (2.0.10)\n",
      "Requirement already satisfied: decorator>=4.0.10 in c:\\users\\migames\\anaconda3\\lib\\site-packages (from librosa>=0.9.1->Resemblyzer) (5.1.1)\n",
      "Requirement already satisfied: resampy>=0.2.2 in c:\\users\\migames\\anaconda3\\lib\\site-packages (from librosa>=0.9.1->Resemblyzer) (0.4.2)\n",
      "Requirement already satisfied: joblib>=0.14 in c:\\users\\migames\\anaconda3\\lib\\site-packages (from librosa>=0.9.1->Resemblyzer) (1.1.0)\n",
      "Requirement already satisfied: scikit-learn>=0.19.1 in c:\\users\\migames\\anaconda3\\lib\\site-packages (from librosa>=0.9.1->Resemblyzer) (1.0.2)\n",
      "Requirement already satisfied: numba>=0.45.1 in c:\\users\\migames\\anaconda3\\lib\\site-packages (from librosa>=0.9.1->Resemblyzer) (0.55.1)\n",
      "Requirement already satisfied: packaging>=20.0 in c:\\users\\migames\\anaconda3\\lib\\site-packages (from librosa>=0.9.1->Resemblyzer) (21.3)\n",
      "Requirement already satisfied: pooch>=1.0 in c:\\users\\migames\\anaconda3\\lib\\site-packages (from librosa>=0.9.1->Resemblyzer) (1.6.0)\n",
      "Requirement already satisfied: soundfile>=0.10.2 in c:\\users\\migames\\anaconda3\\lib\\site-packages (from librosa>=0.9.1->Resemblyzer) (0.12.1)\n",
      "Requirement already satisfied: audioread>=2.1.5 in c:\\users\\migames\\anaconda3\\lib\\site-packages (from librosa>=0.9.1->Resemblyzer) (3.0.0)\n",
      "Requirement already satisfied: setuptools in c:\\users\\migames\\anaconda3\\lib\\site-packages (from numba>=0.45.1->librosa>=0.9.1->Resemblyzer) (67.7.2)\n",
      "Requirement already satisfied: llvmlite<0.39,>=0.38.0rc1 in c:\\users\\migames\\anaconda3\\lib\\site-packages (from numba>=0.45.1->librosa>=0.9.1->Resemblyzer) (0.38.0)\n",
      "Requirement already satisfied: pyparsing!=3.0.5,>=2.0.2 in c:\\users\\migames\\anaconda3\\lib\\site-packages (from packaging>=20.0->librosa>=0.9.1->Resemblyzer) (3.0.4)\n",
      "Requirement already satisfied: requests>=2.19.0 in c:\\users\\migames\\anaconda3\\lib\\site-packages (from pooch>=1.0->librosa>=0.9.1->Resemblyzer) (2.27.1)\n",
      "Requirement already satisfied: appdirs>=1.3.0 in c:\\users\\migames\\anaconda3\\lib\\site-packages (from pooch>=1.0->librosa>=0.9.1->Resemblyzer) (1.4.4)\n",
      "Requirement already satisfied: charset-normalizer~=2.0.0 in c:\\users\\migames\\anaconda3\\lib\\site-packages (from requests>=2.19.0->pooch>=1.0->librosa>=0.9.1->Resemblyzer) (2.0.4)\n",
      "Requirement already satisfied: idna<4,>=2.5 in c:\\users\\migames\\anaconda3\\lib\\site-packages (from requests>=2.19.0->pooch>=1.0->librosa>=0.9.1->Resemblyzer) (3.3)\n",
      "Requirement already satisfied: urllib3<1.27,>=1.21.1 in c:\\users\\migames\\anaconda3\\lib\\site-packages (from requests>=2.19.0->pooch>=1.0->librosa>=0.9.1->Resemblyzer) (1.26.9)\n",
      "Requirement already satisfied: certifi>=2017.4.17 in c:\\users\\migames\\anaconda3\\lib\\site-packages (from requests>=2.19.0->pooch>=1.0->librosa>=0.9.1->Resemblyzer) (2021.10.8)\n",
      "Requirement already satisfied: threadpoolctl>=2.0.0 in c:\\users\\migames\\anaconda3\\lib\\site-packages (from scikit-learn>=0.19.1->librosa>=0.9.1->Resemblyzer) (2.2.0)\n",
      "Requirement already satisfied: cffi>=1.0 in c:\\users\\migames\\anaconda3\\lib\\site-packages (from soundfile>=0.10.2->librosa>=0.9.1->Resemblyzer) (1.15.0)\n",
      "Requirement already satisfied: pycparser in c:\\users\\migames\\anaconda3\\lib\\site-packages (from cffi>=1.0->soundfile>=0.10.2->librosa>=0.9.1->Resemblyzer) (2.21)\n",
      "Requirement already satisfied: typing_extensions in c:\\users\\migames\\anaconda3\\lib\\site-packages (from torch>=1.0.1->Resemblyzer) (4.1.1)\n"
     ]
    }
   ],
   "source": [
    "!pip install Resemblyzer"
   ]
  },
  {
   "cell_type": "code",
   "execution_count": 11,
   "id": "43bf56e2-661b-4a8c-afb3-18cca7d9b29e",
   "metadata": {},
   "outputs": [
    {
     "name": "stdout",
     "output_type": "stream",
     "text": [
      "Collecting pyannote.core\n",
      "  Downloading pyannote.core-5.0.0-py3-none-any.whl (58 kB)\n",
      "Requirement already satisfied: numpy>=1.10.4 in c:\\users\\migames\\anaconda3\\lib\\site-packages (from pyannote.core) (1.21.5)\n",
      "Requirement already satisfied: typing-extensions>=3.7.4.1 in c:\\users\\migames\\anaconda3\\lib\\site-packages (from pyannote.core) (4.1.1)\n",
      "Requirement already satisfied: scipy>=1.1 in c:\\users\\migames\\anaconda3\\lib\\site-packages (from pyannote.core) (1.7.3)\n",
      "Requirement already satisfied: sortedcontainers>=2.0.4 in c:\\users\\migames\\anaconda3\\lib\\site-packages (from pyannote.core) (2.4.0)\n",
      "Installing collected packages: pyannote.core\n",
      "Successfully installed pyannote.core-5.0.0\n"
     ]
    }
   ],
   "source": [
    "!pip install pyannote.core"
   ]
  },
  {
   "cell_type": "code",
   "execution_count": 14,
   "id": "afb8567c-fb62-4bae-9864-8000c906738e",
   "metadata": {},
   "outputs": [
    {
     "name": "stdout",
     "output_type": "stream",
     "text": [
      "Collecting pyannote.metrics\n",
      "  Using cached pyannote.metrics-3.2.1-py3-none-any.whl (51 kB)\n",
      "Requirement already satisfied: sympy>=1.1 in c:\\users\\migames\\anaconda3\\lib\\site-packages (from pyannote.metrics) (1.10.1)\n",
      "Requirement already satisfied: scipy>=1.1.0 in c:\\users\\migames\\anaconda3\\lib\\site-packages (from pyannote.metrics) (1.7.3)\n",
      "Collecting pyannote.database>=4.0.1\n",
      "  Downloading pyannote.database-5.0.1-py3-none-any.whl (48 kB)\n",
      "Requirement already satisfied: matplotlib>=2.0.0 in c:\\users\\migames\\anaconda3\\lib\\site-packages (from pyannote.metrics) (3.5.1)\n",
      "Requirement already satisfied: pandas>=0.19 in c:\\users\\migames\\anaconda3\\lib\\site-packages (from pyannote.metrics) (1.4.2)\n",
      "Requirement already satisfied: numpy in c:\\users\\migames\\anaconda3\\lib\\site-packages (from pyannote.metrics) (1.21.5)\n",
      "Collecting docopt>=0.6.2\n",
      "  Using cached docopt-0.6.2-py2.py3-none-any.whl\n",
      "Requirement already satisfied: tabulate>=0.7.7 in c:\\users\\migames\\anaconda3\\lib\\site-packages (from pyannote.metrics) (0.8.9)\n",
      "Requirement already satisfied: pyannote.core>=4.1 in c:\\users\\migames\\anaconda3\\lib\\site-packages (from pyannote.metrics) (5.0.0)\n",
      "Requirement already satisfied: scikit-learn>=0.17.1 in c:\\users\\migames\\anaconda3\\lib\\site-packages (from pyannote.metrics) (1.0.2)\n",
      "Requirement already satisfied: fonttools>=4.22.0 in c:\\users\\migames\\anaconda3\\lib\\site-packages (from matplotlib>=2.0.0->pyannote.metrics) (4.25.0)\n",
      "Requirement already satisfied: packaging>=20.0 in c:\\users\\migames\\anaconda3\\lib\\site-packages (from matplotlib>=2.0.0->pyannote.metrics) (21.3)\n",
      "Requirement already satisfied: pillow>=6.2.0 in c:\\users\\migames\\anaconda3\\lib\\site-packages (from matplotlib>=2.0.0->pyannote.metrics) (9.0.1)\n",
      "Requirement already satisfied: python-dateutil>=2.7 in c:\\users\\migames\\anaconda3\\lib\\site-packages (from matplotlib>=2.0.0->pyannote.metrics) (2.8.2)\n",
      "Requirement already satisfied: pyparsing>=2.2.1 in c:\\users\\migames\\anaconda3\\lib\\site-packages (from matplotlib>=2.0.0->pyannote.metrics) (3.0.4)\n",
      "Requirement already satisfied: cycler>=0.10 in c:\\users\\migames\\anaconda3\\lib\\site-packages (from matplotlib>=2.0.0->pyannote.metrics) (0.11.0)\n",
      "Requirement already satisfied: kiwisolver>=1.0.1 in c:\\users\\migames\\anaconda3\\lib\\site-packages (from matplotlib>=2.0.0->pyannote.metrics) (1.3.2)\n",
      "Requirement already satisfied: pytz>=2020.1 in c:\\users\\migames\\anaconda3\\lib\\site-packages (from pandas>=0.19->pyannote.metrics) (2021.3)\n",
      "Requirement already satisfied: typing-extensions>=3.7.4.1 in c:\\users\\migames\\anaconda3\\lib\\site-packages (from pyannote.core>=4.1->pyannote.metrics) (4.1.1)\n",
      "Requirement already satisfied: sortedcontainers>=2.0.4 in c:\\users\\migames\\anaconda3\\lib\\site-packages (from pyannote.core>=4.1->pyannote.metrics) (2.4.0)\n",
      "Collecting typer[all]>=0.2.1\n",
      "  Using cached typer-0.9.0-py3-none-any.whl (45 kB)\n",
      "Requirement already satisfied: pyYAML>=3.12 in c:\\users\\migames\\anaconda3\\lib\\site-packages (from pyannote.database>=4.0.1->pyannote.metrics) (6.0)\n",
      "Requirement already satisfied: six>=1.5 in c:\\users\\migames\\anaconda3\\lib\\site-packages (from python-dateutil>=2.7->matplotlib>=2.0.0->pyannote.metrics) (1.16.0)\n",
      "Requirement already satisfied: threadpoolctl>=2.0.0 in c:\\users\\migames\\anaconda3\\lib\\site-packages (from scikit-learn>=0.17.1->pyannote.metrics) (2.2.0)\n",
      "Requirement already satisfied: joblib>=0.11 in c:\\users\\migames\\anaconda3\\lib\\site-packages (from scikit-learn>=0.17.1->pyannote.metrics) (1.1.0)\n",
      "Requirement already satisfied: mpmath>=0.19 in c:\\users\\migames\\anaconda3\\lib\\site-packages (from sympy>=1.1->pyannote.metrics) (1.2.1)\n",
      "Requirement already satisfied: click<9.0.0,>=7.1.1 in c:\\users\\migames\\anaconda3\\lib\\site-packages (from typer[all]>=0.2.1->pyannote.database>=4.0.1->pyannote.metrics) (8.0.4)\n",
      "Requirement already satisfied: colorama<0.5.0,>=0.4.3 in c:\\users\\migames\\anaconda3\\lib\\site-packages (from typer[all]>=0.2.1->pyannote.database>=4.0.1->pyannote.metrics) (0.4.4)\n",
      "Collecting rich<14.0.0,>=10.11.0\n",
      "  Using cached rich-13.3.5-py3-none-any.whl (238 kB)\n",
      "Collecting shellingham<2.0.0,>=1.3.0\n",
      "  Using cached shellingham-1.5.0.post1-py2.py3-none-any.whl (9.4 kB)\n",
      "Collecting markdown-it-py<3.0.0,>=2.2.0\n",
      "  Using cached markdown_it_py-2.2.0-py3-none-any.whl (84 kB)\n",
      "Requirement already satisfied: pygments<3.0.0,>=2.13.0 in c:\\users\\migames\\anaconda3\\lib\\site-packages (from rich<14.0.0,>=10.11.0->typer[all]>=0.2.1->pyannote.database>=4.0.1->pyannote.metrics) (2.15.1)\n",
      "Requirement already satisfied: mdurl~=0.1 in c:\\users\\migames\\anaconda3\\lib\\site-packages (from markdown-it-py<3.0.0,>=2.2.0->rich<14.0.0,>=10.11.0->typer[all]>=0.2.1->pyannote.database>=4.0.1->pyannote.metrics) (0.1.2)\n",
      "Installing collected packages: markdown-it-py, typer, shellingham, rich, pyannote.database, docopt, pyannote.metrics\n",
      "Successfully installed docopt-0.6.2 markdown-it-py-2.2.0 pyannote.database-5.0.1 pyannote.metrics-3.2.1 rich-13.3.5 shellingham-1.5.0.post1 typer-0.9.0\n",
      "Note: you may need to restart the kernel to use updated packages.\n"
     ]
    }
   ],
   "source": [
    "pip install pyannote.metrics"
   ]
  },
  {
   "cell_type": "code",
   "execution_count": 17,
   "id": "ea071bff-e75a-493c-a297-be3a40d8acc6",
   "metadata": {},
   "outputs": [
    {
     "name": "stdout",
     "output_type": "stream",
     "text": [
      "Collecting pydub\n",
      "  Using cached pydub-0.25.1-py2.py3-none-any.whl (32 kB)\n",
      "Installing collected packages: pydub\n",
      "Successfully installed pydub-0.25.1\n"
     ]
    }
   ],
   "source": [
    "!pip install pydub"
   ]
  },
  {
   "cell_type": "code",
   "execution_count": 21,
   "id": "a332e7fc-99e2-4f68-ab69-a937e4d5f05b",
   "metadata": {},
   "outputs": [
    {
     "name": "stdout",
     "output_type": "stream",
     "text": [
      "Collecting git+https://github.com/Desklop/WebRTCVAD_Wrapper\n",
      "  Cloning https://github.com/Desklop/WebRTCVAD_Wrapper to c:\\users\\migames\\appdata\\local\\temp\\pip-req-build-73a_kgr7\n",
      "  Resolved https://github.com/Desklop/WebRTCVAD_Wrapper to commit a69dbe8718a67244dc8011df70e92c3d5615a0e8\n",
      "Requirement already satisfied: pydub>=0.23.1 in c:\\users\\migames\\anaconda3\\lib\\site-packages (from webrtcvad-wrapper==1.4) (0.25.1)\n",
      "Requirement already satisfied: webrtcvad==2.0.10 in c:\\users\\migames\\anaconda3\\lib\\site-packages (from webrtcvad-wrapper==1.4) (2.0.10)\n",
      "Requirement already satisfied: librosa>=0.7.1 in c:\\users\\migames\\anaconda3\\lib\\site-packages (from webrtcvad-wrapper==1.4) (0.9.1)\n",
      "Requirement already satisfied: packaging>=20.0 in c:\\users\\migames\\anaconda3\\lib\\site-packages (from librosa>=0.7.1->webrtcvad-wrapper==1.4) (21.3)\n",
      "Requirement already satisfied: audioread>=2.1.5 in c:\\users\\migames\\anaconda3\\lib\\site-packages (from librosa>=0.7.1->webrtcvad-wrapper==1.4) (3.0.0)\n",
      "Requirement already satisfied: numba>=0.45.1 in c:\\users\\migames\\anaconda3\\lib\\site-packages (from librosa>=0.7.1->webrtcvad-wrapper==1.4) (0.55.1)\n",
      "Requirement already satisfied: joblib>=0.14 in c:\\users\\migames\\anaconda3\\lib\\site-packages (from librosa>=0.7.1->webrtcvad-wrapper==1.4) (1.1.0)\n",
      "Requirement already satisfied: resampy>=0.2.2 in c:\\users\\migames\\anaconda3\\lib\\site-packages (from librosa>=0.7.1->webrtcvad-wrapper==1.4) (0.4.2)\n",
      "Requirement already satisfied: scipy>=1.2.0 in c:\\users\\migames\\anaconda3\\lib\\site-packages (from librosa>=0.7.1->webrtcvad-wrapper==1.4) (1.7.3)\n",
      "Requirement already satisfied: scikit-learn>=0.19.1 in c:\\users\\migames\\anaconda3\\lib\\site-packages (from librosa>=0.7.1->webrtcvad-wrapper==1.4) (1.0.2)\n",
      "Requirement already satisfied: decorator>=4.0.10 in c:\\users\\migames\\anaconda3\\lib\\site-packages (from librosa>=0.7.1->webrtcvad-wrapper==1.4) (5.1.1)\n",
      "Requirement already satisfied: numpy>=1.17.0 in c:\\users\\migames\\anaconda3\\lib\\site-packages (from librosa>=0.7.1->webrtcvad-wrapper==1.4) (1.21.5)\n",
      "Requirement already satisfied: pooch>=1.0 in c:\\users\\migames\\anaconda3\\lib\\site-packages (from librosa>=0.7.1->webrtcvad-wrapper==1.4) (1.6.0)\n",
      "Requirement already satisfied: soundfile>=0.10.2 in c:\\users\\migames\\anaconda3\\lib\\site-packages (from librosa>=0.7.1->webrtcvad-wrapper==1.4) (0.12.1)\n",
      "Requirement already satisfied: setuptools in c:\\users\\migames\\anaconda3\\lib\\site-packages (from numba>=0.45.1->librosa>=0.7.1->webrtcvad-wrapper==1.4) (67.7.2)\n",
      "Requirement already satisfied: llvmlite<0.39,>=0.38.0rc1 in c:\\users\\migames\\anaconda3\\lib\\site-packages (from numba>=0.45.1->librosa>=0.7.1->webrtcvad-wrapper==1.4) (0.38.0)\n",
      "Requirement already satisfied: pyparsing!=3.0.5,>=2.0.2 in c:\\users\\migames\\anaconda3\\lib\\site-packages (from packaging>=20.0->librosa>=0.7.1->webrtcvad-wrapper==1.4) (3.0.4)\n",
      "Requirement already satisfied: requests>=2.19.0 in c:\\users\\migames\\anaconda3\\lib\\site-packages (from pooch>=1.0->librosa>=0.7.1->webrtcvad-wrapper==1.4) (2.27.1)\n",
      "Requirement already satisfied: appdirs>=1.3.0 in c:\\users\\migames\\anaconda3\\lib\\site-packages (from pooch>=1.0->librosa>=0.7.1->webrtcvad-wrapper==1.4) (1.4.4)\n",
      "Requirement already satisfied: idna<4,>=2.5 in c:\\users\\migames\\anaconda3\\lib\\site-packages (from requests>=2.19.0->pooch>=1.0->librosa>=0.7.1->webrtcvad-wrapper==1.4) (3.3)\n",
      "Requirement already satisfied: urllib3<1.27,>=1.21.1 in c:\\users\\migames\\anaconda3\\lib\\site-packages (from requests>=2.19.0->pooch>=1.0->librosa>=0.7.1->webrtcvad-wrapper==1.4) (1.26.9)\n",
      "Requirement already satisfied: charset-normalizer~=2.0.0 in c:\\users\\migames\\anaconda3\\lib\\site-packages (from requests>=2.19.0->pooch>=1.0->librosa>=0.7.1->webrtcvad-wrapper==1.4) (2.0.4)\n",
      "Requirement already satisfied: certifi>=2017.4.17 in c:\\users\\migames\\anaconda3\\lib\\site-packages (from requests>=2.19.0->pooch>=1.0->librosa>=0.7.1->webrtcvad-wrapper==1.4) (2021.10.8)\n",
      "Requirement already satisfied: threadpoolctl>=2.0.0 in c:\\users\\migames\\anaconda3\\lib\\site-packages (from scikit-learn>=0.19.1->librosa>=0.7.1->webrtcvad-wrapper==1.4) (2.2.0)\n",
      "Requirement already satisfied: cffi>=1.0 in c:\\users\\migames\\anaconda3\\lib\\site-packages (from soundfile>=0.10.2->librosa>=0.7.1->webrtcvad-wrapper==1.4) (1.15.0)\n",
      "Requirement already satisfied: pycparser in c:\\users\\migames\\anaconda3\\lib\\site-packages (from cffi>=1.0->soundfile>=0.10.2->librosa>=0.7.1->webrtcvad-wrapper==1.4) (2.21)\n",
      "Building wheels for collected packages: webrtcvad-wrapper\n",
      "  Building wheel for webrtcvad-wrapper (setup.py): started\n",
      "  Building wheel for webrtcvad-wrapper (setup.py): finished with status 'done'\n",
      "  Created wheel for webrtcvad-wrapper: filename=webrtcvad_wrapper-1.4-py3-none-any.whl size=17261 sha256=eb8d545c8075eccfed08acaad68ee92747a213b9aa38de9bd11da07707c1e63e\n",
      "  Stored in directory: C:\\Users\\MiGames\\AppData\\Local\\Temp\\pip-ephem-wheel-cache-nu8659jk\\wheels\\a3\\ff\\fd\\62989711225ddff25305a16dd296d122612daac4f35526be18\n",
      "Successfully built webrtcvad-wrapper\n",
      "Installing collected packages: webrtcvad-wrapper\n",
      "Successfully installed webrtcvad-wrapper-1.4\n"
     ]
    },
    {
     "name": "stderr",
     "output_type": "stream",
     "text": [
      "  Running command git clone -q https://github.com/Desklop/WebRTCVAD_Wrapper 'C:\\Users\\MiGames\\AppData\\Local\\Temp\\pip-req-build-73a_kgr7'\n"
     ]
    }
   ],
   "source": [
    "!pip install git+https://github.com/Desklop/WebRTCVAD_Wrapper"
   ]
  },
  {
   "cell_type": "code",
   "execution_count": 23,
   "id": "a4ab5c92-8d6e-4c8b-9e9d-3bff49d4f2cb",
   "metadata": {},
   "outputs": [],
   "source": [
    "from IPython.display import Audio, display\n",
    "from itertools import groupby\n",
    "import itertools\n",
    "flatten = itertools.chain.from_iterable\n",
    "from math import ceil\n",
    "from pathlib import Path\n",
    "import datetime\n",
    "import json\n",
    "import collections\n",
    "from timeit import default_timer as timer\n",
    "import os\n",
    "from resemblyzer import preprocess_wav, VoiceEncoder\n",
    "import matplotlib.pyplot as plt\n",
    "import librosa\n",
    "import librosa.display\n",
    "import matplotlib\n",
    "from matplotlib import style\n",
    "import numpy as np\n",
    "from numpy import linalg as LA\n",
    "import sounddevice as sd\n",
    "import webrtcvad\n",
    "from pyannote.core import Segment, Timeline, Annotation, notebook\n",
    "from pyannote.metrics.diarization import DiarizationErrorRate, GreedyDiarizationErrorRate, JaccardErrorRate\n",
    "import scipy\n",
    "from scipy.sparse import csgraph\n",
    "from scipy.spatial.distance import pdist, squareform, euclidean, cosine\n",
    "import scipy.signal as sps\n",
    "import pydub\n",
    "from webrtcvad_wrapper import VAD\n",
    "import pydub.scipy_effects\n",
    "from pydub import AudioSegment\n",
    "import soundfile as sf\n",
    "# AudioSegment.converter = '/usr/local/Cellar/ffmpeg/4.2.2_2/bin/ffmpeg'"
   ]
  },
  {
   "cell_type": "code",
   "execution_count": 24,
   "id": "4c814edc-359a-4a5a-bcda-8dbdfcb00fcd",
   "metadata": {},
   "outputs": [],
   "source": [
    "## Plots preparation\n",
    "style.use('seaborn')\n",
    "color = {\n",
    " -1: \"black\",\n",
    " 0: \"red\",\n",
    " 1: \"orange\",\n",
    " 2: \"blue\",\n",
    " 3: \"brown\",\n",
    " 4: \"purple\",\n",
    " 5: \"plum\",\n",
    " 6: \"gray\",\n",
    " 7: \"khaki\",\n",
    " 8: \"magenta\",\n",
    " 9: \"cyan\",\n",
    " 10: \"lime\",\n",
    " 11: \"indigo\",\n",
    " 12: \"royalblue\",\n",
    " 13: \"dodgerblue\",\n",
    " 14: \"lightcoral\"\n",
    "}\n",
    "def timeTicks(x, pos):\n",
    " d = datetime.timedelta(seconds=x)\n",
    " return str(d)[-5:] if x < 3600 else str(d)\n",
    "formatter = matplotlib.ticker.FuncFormatter(timeTicks)\n"
   ]
  },
  {
   "cell_type": "code",
   "execution_count": null,
   "id": "698279b9-bba7-44aa-b238-620450046f0d",
   "metadata": {},
   "outputs": [],
   "source": [
    "def get_vad_segments(audio_segment):\n",
    " filtered_segments = vad.filter(audio_segment)\n",
    " return [\n",
    " (filtered_segment[0], filtered_segment[1])\n",
    " for filtered_segment in filtered_segments if filtered_segment[-1]\n",
    " ]\n",
    "def remove_overlap(ranges):\n",
    " result = []\n",
    " current_start = -1\n",
    " current_stop = -1\n",
    " for start, stop in sorted(ranges):\n",
    " if start > current_stop:\n",
    " # this segment starts after the last segment stops\n",
    " # just add a new segment\n",
    " result.append( (start, stop) )\n",
    " current_start, current_stop = start, stop\n",
    " else:\n",
    " # segments overlap, replace\n",
    " result[-1] = (current_start, stop)\n",
    " # current_start already guaranteed to be lower\n",
    " current_stop = max(current_stop, stop)\n",
    " return result"
   ]
  },
  {
   "cell_type": "code",
   "execution_count": null,
   "id": "ad0576e5-9986-4598-880d-bbceb842fc08",
   "metadata": {},
   "outputs": [],
   "source": [
    "def plot_original_audio(speaker_segments):\n",
    " # display(Audio(wav, rate=source_sr))\n",
    " fig = plt.figure(figsize=(13, 3))\n",
    " axes = plt.axes()\n",
    " plt.title('Original audio')\n",
    " librosa.display.waveplot(original_audio * 2, sr=source_sr, color='lightgray'\n",
    ")\n",
    " for line in speaker_segments:\n",
    " plt.plot(\n",
    " [x[line['start']], x[line['end']]],\n",
    " ['Speaker ' + str(line['speaker_id']), 'Speaker ' + str(line['speake\n",
    "r_id'])],\n",
    " color=color[line['speaker_id'] % 15],\n",
    " linewidth=3\n",
    " )\n",
    " if SHOW_SPEAKER_SWITCHES:\n",
    " for xc in speaker_switches:\n",
    " plt.axvline(x=xc, linewidth=.5)\n",
    " axes.xaxis.set_major_formatter(formatter)\n",
    " ticks_freq = ceil(len(wav) * .1 / source_sr)\n",
    " axes.xaxis.set_major_locator(plt.MultipleLocator(ticks_freq))\n",
    " plt.margins(x=0.01)\n",
    " plt.tight_layout()"
   ]
  },
  {
   "cell_type": "code",
   "execution_count": null,
   "id": "bea8ce73-380a-4d5e-b29f-05966d9d057e",
   "metadata": {},
   "outputs": [],
   "source": [
    "def plot_ground_truth():\n",
    " fig = plt.figure(figsize=(13, 3))\n",
    " axes = plt.axes()\n",
    " plt.title('Ground truth')\n",
    " librosa.display.waveplot(original_audio * 2, sr=source_sr, color='lightgray'\n",
    ")\n",
    " for item in ami_corpus_transcripts:\n",
    " id = item['speaker_id']\n",
    " plt.plot(\n",
    " [item['start'], item['end']],\n",
    " ['Speaker ' + str(id), 'Speaker ' + str(id)],\n",
    " color=color[id % 15],\n",
    " linewidth=4\n",
    " )\n",
    " if SHOW_SPEAKER_SWITCHES:\n",
    " for xc in speaker_switches:\n",
    " plt.axvline(x=xc, linewidth=.5)\n",
    " axes.xaxis.set_major_formatter(formatter)\n",
    " ticks_freq = ceil(len(original_audio) * .1 / source_sr)\n",
    " axes.xaxis.set_major_locator(plt.MultipleLocator(ticks_freq))\n",
    " plt.margins(x=0.01)\n",
    " plt.tight_layout()\n"
   ]
  },
  {
   "cell_type": "code",
   "execution_count": 25,
   "id": "bbab25db-1a79-405e-96f6-4bd324e356a5",
   "metadata": {},
   "outputs": [
    {
     "ename": "IndentationError",
     "evalue": "expected an indented block (3069034559.py, line 8)",
     "output_type": "error",
     "traceback": [
      "\u001b[1;36m  Input \u001b[1;32mIn [25]\u001b[1;36m\u001b[0m\n\u001b[1;33m    if len(group) > 0 and group[0] is not None:\u001b[0m\n\u001b[1;37m    ^\u001b[0m\n\u001b[1;31mIndentationError\u001b[0m\u001b[1;31m:\u001b[0m expected an indented block\n"
     ]
    }
   ],
   "source": [
    "def get_speaker_segments(labels_list):\n",
    " N = np.array(labels_list)\n",
    " counter = np.arange(1, np.alen(N))\n",
    " groupings = np.split(N, counter[N[1:] != N[:-1]])\n",
    " segments = []\n",
    " start = 0\n",
    " for group in groupings:\n",
    " if len(group) > 0 and group[0] is not None:\n",
    " segments.append({\n",
    " 'start': start,\n",
    " 'end': start + len(group) - 1,\n",
    " 'speaker_id': group[0]\n",
    " })\n",
    " start += len(group)\n",
    " return segments\n"
   ]
  },
  {
   "cell_type": "code",
   "execution_count": null,
   "id": "a352cb13-48f9-4236-aad6-534a0a15d7bf",
   "metadata": {},
   "outputs": [],
   "source": [
    "def get_similarity(embed_i, embed_j):\n",
    " return cosine(embed_i, embed_j)"
   ]
  },
  {
   "cell_type": "code",
   "execution_count": null,
   "id": "6c6e7864-2d28-4f75-9aba-ee8a893e1409",
   "metadata": {},
   "outputs": [],
   "source": [
    "def get_hypothesis(speaker_segments):\n",
    " hypothesis = Annotation()\n",
    " for t in speaker_segments:\n",
    " try:\n",
    " hypothesis[Segment(x[t['start']], x[t['end']])] = str(t['speaker_id'\n",
    "]) + '_hyp'\n",
    " except:\n",
    " pass\n",
    " return hypothesis\n",
    "der = DiarizationErrorRate()\n",
    "gder = GreedyDiarizationErrorRate()\n",
    "jer = JaccardErrorRate()\n",
    "def measure_metrics(reference, hypothesis):\n",
    " der_value = der(reference, hypothesis)\n",
    " print('DER:', der_value)\n",
    " # print(der.report())\n",
    " ## Gives no difference with DER\n",
    " # print('GDER:', gder(reference, hypothesis))\n",
    " # print(gder.report())\n",
    " print('JER:', jer(reference, hypothesis))\n",
    " # print(jer.report())\n",
    " return der_value"
   ]
  },
  {
   "cell_type": "code",
   "execution_count": 26,
   "id": "101ded98-812d-4a81-a507-1d37378e0611",
   "metadata": {},
   "outputs": [],
   "source": [
    "def plot_der(hypothesis):\n",
    " fig = plt.figure(figsize=(13, 5))\n",
    " # plot hypothesis\n",
    " ax = plt.subplot(211)\n",
    " plt.title('hypothesis')\n",
    " ax.xaxis.set_major_formatter(formatter)\n",
    " ticks_freq = ceil(len(original_audio) * .1 / source_sr)\n",
    " notebook.plot_annotation(hypothesis, legend=True, time=True)\n",
    " librosa.display.waveplot(original_audio, sr=source_sr, color='lightgray')\n",
    " # plot reference\n",
    " ax = plt.subplot(212)\n",
    " plt.title('reference')\n",
    " ax.xaxis.set_major_formatter(formatter)\n",
    " notebook.plot_annotation(reference, legend=True, time=True)\n",
    " librosa.display.waveplot(original_audio, sr=source_sr, color='lightgray')\n",
    " plt.margins(x=0.01)\n",
    " plt.tight_layout()\n",
    " plt.show()"
   ]
  },
  {
   "cell_type": "code",
   "execution_count": 27,
   "id": "863b4bf2-397b-4f22-a9d9-c83310e3fd16",
   "metadata": {},
   "outputs": [],
   "source": [
    "# SOURCE_FOLDER = 'ami_corpus'\n",
    "# SOURCE_FILE = 'ES2002a.Mix-Headset.wav'\n",
    "# TRANSCRIPTS = f'{SOURCE_FOLDER}/transcripts.json'\n",
    "# N_SPEAKERS = 4\n",
    "SOURCE_FOLDER = 'records'\n",
    "SOURCE_FILE = 'Pumpkin_and_Honey_Bunny.wav'\n",
    "TRANSCRIPTS = f'{SOURCE_FOLDER}/transcripts.json'\n",
    "N_SPEAKERS = 3\n",
    "FILEPATH = str(Path(SOURCE_FOLDER, SOURCE_FILE))\n",
    "SR = 32000\n",
    "CHUNKS_FOLDER = 'chunks'\n",
    "CUT_AUDIO = True\n",
    "CUT_LENGTH = 10. * 60. # seconds"
   ]
  },
  {
   "cell_type": "markdown",
   "id": "29988b6b-35a2-403c-8d72-b88ea763f93e",
   "metadata": {},
   "source": [
    "## Audio file loading"
   ]
  },
  {
   "cell_type": "code",
   "execution_count": null,
   "id": "49b271b2-0794-485f-9520-cf8eb4234fd7",
   "metadata": {},
   "outputs": [],
   "source": [
    "## Load audio\n",
    "if CUT_AUDIO:\n",
    " wav, source_sr = librosa.load(FILEPATH, sr=SR, offset=0.0, duration=CUT_LENG\n",
    "TH)\n",
    "else:\n",
    " wav, source_sr = librosa.load(FILEPATH, sr=SR)\n",
    "original_audio = wav\n",
    "print(len(wav))"
   ]
  },
  {
   "cell_type": "markdown",
   "id": "b4be515b-52b5-45c7-9bc1-a7ddddb3d0ba",
   "metadata": {},
   "source": [
    "## Loading transcripts"
   ]
  },
  {
   "cell_type": "code",
   "execution_count": null,
   "id": "cece51d2-27e9-45e7-9ad3-58d2d82c30eb",
   "metadata": {},
   "outputs": [],
   "source": [
    "## Load transcripts from prepared file and mark reference annotations\n",
    "with open(TRANSCRIPTS, 'r') as f:\n",
    " ami_corpus_transcripts = json.load(f)\n",
    "SHOW_SPEAKER_SWITCHES = False\n",
    "if SHOW_SPEAKER_SWITCHES:\n",
    " if CUT_AUDIO:\n",
    " speaker_switches = [t['start'] for i, t in enumerate(ami_corpus_transcri\n",
    "pts) \\\n",
    " if i > 0 \\\n",
    " and t['speaker_id'] != ami_corpus_transcripts[i - 1]['speaker_i\n",
    "d'] \\\n",
    " and t['end'] < CUT_LENGTH\n",
    " ]\n",
    " else:\n",
    " speaker_switches = [t['start'] for i, t in enumerate(ami_corpus_transcri\n",
    "pts) \\\n",
    " if i > 0 \\\n",
    " and t['speaker_id'] != ami_corpus_transcripts[i - 1]['speaker_i\n",
    "d']\n",
    " ]\n",
    " speaker_switches.insert(0, ami_corpus_transcripts[0]['start'])\n",
    "if CUT_AUDIO and CUT_LENGTH < len(wav):\n",
    " ami_corpus_transcripts = [t for t in ami_corpus_transcripts if t['start'] <\n",
    "CUT_LENGTH]\n",
    "reference = Annotation()\n",
    "for t in ami_corpus_transcripts:\n",
    " try:\n",
    " reference[Segment(t['start'], t['end'])] = str(t['speaker_id']) + '_ref'\n",
    " except:\n",
    " pass\n"
   ]
  },
  {
   "cell_type": "markdown",
   "id": "82931df3-e1d9-403b-b1ed-6e8415afbbf0",
   "metadata": {},
   "source": [
    "# Prepare everything for clustering"
   ]
  },
  {
   "cell_type": "code",
   "execution_count": null,
   "id": "4e88608e-b904-48d1-ae4e-d34e0b438b31",
   "metadata": {},
   "outputs": [],
   "source": [
    "timers = []\n",
    "x = librosa.times_like(len(wav), sr=SR, hop_length=1)\n"
   ]
  },
  {
   "cell_type": "code",
   "execution_count": null,
   "id": "8629b8c7-3e8f-4110-8df4-ad38f5e7429a",
   "metadata": {},
   "outputs": [],
   "source": [
    "## Load voice encoder\n",
    "encoder = VoiceEncoder()\n"
   ]
  },
  {
   "cell_type": "code",
   "execution_count": null,
   "id": "aac0aa48-9a7f-4906-81a0-63408e674feb",
   "metadata": {},
   "outputs": [],
   "source": [
    "CHUNK_TIME_LENGTH = 2.5 # seconds\n",
    "CHUNKS_OVERLAP = .15 # share (percents)\n",
    "SPEAKER_CHANGE_THRESHOLD = .3 # percents\n",
    "SENSITIVITY_MODE = 2 # 4 is supposed to be better for neural networks, but it's\n",
    "not\n",
    "FILTER_VALUE = 300"
   ]
  },
  {
   "cell_type": "code",
   "execution_count": null,
   "id": "c5a878dc-9660-4cdd-b09e-baaf5fc4a09b",
   "metadata": {},
   "outputs": [],
   "source": [
    "## Define Voice Activity Detector\n",
    "vad = VAD(sensitivity_mode=SENSITIVITY_MODE)"
   ]
  },
  {
   "cell_type": "code",
   "execution_count": 28,
   "id": "f310de6d-dc42-403d-90d8-944be313d088",
   "metadata": {},
   "outputs": [
    {
     "ename": "FileNotFoundError",
     "evalue": "[WinError 3] Системе не удается найти указанный путь: 'chunks'",
     "output_type": "error",
     "traceback": [
      "\u001b[1;31m---------------------------------------------------------------------------\u001b[0m",
      "\u001b[1;31mFileNotFoundError\u001b[0m                         Traceback (most recent call last)",
      "Input \u001b[1;32mIn [28]\u001b[0m, in \u001b[0;36m<cell line: 2>\u001b[1;34m()\u001b[0m\n\u001b[0;32m      1\u001b[0m \u001b[38;5;66;03m## Clean chunks folder\u001b[39;00m\n\u001b[1;32m----> 2\u001b[0m filelist \u001b[38;5;241m=\u001b[39m [f \u001b[38;5;28;01mfor\u001b[39;00m f \u001b[38;5;129;01min\u001b[39;00m \u001b[43mos\u001b[49m\u001b[38;5;241;43m.\u001b[39;49m\u001b[43mlistdir\u001b[49m\u001b[43m(\u001b[49m\u001b[43mCHUNKS_FOLDER\u001b[49m\u001b[43m)\u001b[49m]\n\u001b[0;32m      3\u001b[0m \u001b[38;5;28;01mfor\u001b[39;00m f \u001b[38;5;129;01min\u001b[39;00m filelist:\n\u001b[0;32m      4\u001b[0m  os\u001b[38;5;241m.\u001b[39mremove(os\u001b[38;5;241m.\u001b[39mpath\u001b[38;5;241m.\u001b[39mjoin(CHUNKS_FOLDER, f))\n",
      "\u001b[1;31mFileNotFoundError\u001b[0m: [WinError 3] Системе не удается найти указанный путь: 'chunks'"
     ]
    }
   ],
   "source": [
    "## Clean chunks folder\n",
    "filelist = [f for f in os.listdir(CHUNKS_FOLDER)]\n",
    "for f in filelist:\n",
    " os.remove(os.path.join(CHUNKS_FOLDER, f))\n",
    "chunk_size = ceil(CHUNK_TIME_LENGTH * SR)\n",
    "embeds = []\n",
    "speakers_ids = [0]\n",
    "speaker_segments = []\n",
    "vad_segments = []\n",
    "counter = 0\n"
   ]
  },
  {
   "cell_type": "markdown",
   "id": "c0011462-f8bd-427a-a469-390c2e22b98a",
   "metadata": {},
   "source": [
    "## Chunks processing"
   ]
  },
  {
   "cell_type": "code",
   "execution_count": null,
   "id": "125cf75d-bc41-46eb-92e5-aa7525647f7f",
   "metadata": {},
   "outputs": [],
   "source": [
    "## Process overlapping chunks\n",
    "for i in range(0, len(wav), ceil(chunk_size * (1 - CHUNKS_OVERLAP))):\n",
    " t_start = timer()\n",
    " start = i\n",
    " end = i + chunk_size if i + chunk_size < len(wav) - 1 else len(wav) - 1\n",
    " chunk = wav[start:end]\n",
    " chunk = preprocess_wav(chunk)[0]\n",
    " if (len(chunk) > 0):\n",
    " filename = f'chunks/chunk_{i}.wav'\n",
    " sf.write(filename, chunk, samplerate=SR)\n",
    " audio = AudioSegment.from_file(filename)\n",
    " if audio.sample_width != 2:\n",
    " audio = audio.set_sample_width(2)\n",
    " if audio.channels != 1:\n",
    " audio = audio.set_channels(1)\n",
    " ## Apply 3rd order high pass filter with given value\n",
    " audio = audio.high_pass_filter(FILTER_VALUE, order=3)\n",
    " segments = get_vad_segments(audio)\n",
    " vad_segments += [(start + ceil(segment[0] * SR), start + ceil(segment[1]\n",
    "* SR)) for segment in segments]\n",
    " new_segments = [s for s in remove_overlap(vad_segments) if s[1] - s[0] >\n",
    ".2 * SR]\n",
    " segments = [(s[0] - start, s[1] - start) for s in new_segments if s[0] >\n",
    "= start]\n",
    " for segment in segments:\n",
    " seg_start, seg_end = segment\n",
    " frame = chunk[seg_start:seg_end]\n",
    " embed = encoder.embed_utterance(frame)\n",
    " best = 0\n",
    " if len(embeds) > 0:\n",
    " distances = []\n",
    " for speaker_id, speaker_embeddings in groupby(sorted(embeds, key\n",
    "=lambda x: x[1]), lambda x: x[1]):\n",
    " es = [e for e, s_id in list(speaker_embeddings)]\n",
    " mean_dist = np.mean([get_similarity(embed, embedding) for em\n",
    "bedding in es])\n",
    " min_dist = np.min([get_similarity(embed, embedding) for embe\n",
    "dding in es])\n",
    " max_dist = np.max([get_similarity(embed, embedding) for embe\n",
    "dding in es])\n",
    " distances.append((min_dist, speaker_id))\n",
    " distances = sorted(distances, key=lambda x: x[0])\n",
    " best_id = distances[0][1]\n",
    " if distances[0][0] < SPEAKER_CHANGE_THRESHOLD:\n",
    " id = best_id\n",
    " else:\n",
    " counter += 1\n",
    " id = counter\n",
    " speakers_ids.append(id)\n",
    " speaker_segments.append({\n",
    " 'start': start + seg_start,\n",
    " 'end': start + seg_end,\n",
    " 'speaker_id': id\n",
    " })\n",
    " embeds.append((embed, speakers_ids[best]))\n",
    " t_end = timer()\n",
    " timers.append(t_end - t_start)\n",
    "print(np.mean(timers))\n"
   ]
  },
  {
   "cell_type": "code",
   "execution_count": null,
   "id": "a28e1c24-4c4c-4894-adc7-2343c4dd1944",
   "metadata": {},
   "outputs": [],
   "source": [
    "## Metrics measuring\n"
   ]
  },
  {
   "cell_type": "code",
   "execution_count": 29,
   "id": "5b705a88-201b-4266-8a28-f147d46de54e",
   "metadata": {},
   "outputs": [
    {
     "ename": "NameError",
     "evalue": "name 'get_hypothesis' is not defined",
     "output_type": "error",
     "traceback": [
      "\u001b[1;31m---------------------------------------------------------------------------\u001b[0m",
      "\u001b[1;31mNameError\u001b[0m                                 Traceback (most recent call last)",
      "Input \u001b[1;32mIn [29]\u001b[0m, in \u001b[0;36m<cell line: 1>\u001b[1;34m()\u001b[0m\n\u001b[1;32m----> 1\u001b[0m hypothesis \u001b[38;5;241m=\u001b[39m \u001b[43mget_hypothesis\u001b[49m(speaker_segments)\n\u001b[0;32m      2\u001b[0m \u001b[38;5;66;03m# der_value = measure_metrics(reference, hypothesis)\u001b[39;00m\n\u001b[0;32m      3\u001b[0m \u001b[38;5;66;03m## PyAnnote DER and other metrics\u001b[39;00m\n\u001b[0;32m      4\u001b[0m get_ipython()\u001b[38;5;241m.\u001b[39mrun_line_magic(\u001b[38;5;124m'\u001b[39m\u001b[38;5;124mmatplotlib\u001b[39m\u001b[38;5;124m'\u001b[39m, \u001b[38;5;124m'\u001b[39m\u001b[38;5;124minline\u001b[39m\u001b[38;5;124m'\u001b[39m)\n",
      "\u001b[1;31mNameError\u001b[0m: name 'get_hypothesis' is not defined"
     ]
    }
   ],
   "source": [
    "hypothesis = get_hypothesis(speaker_segments)\n",
    "# der_value = measure_metrics(reference, hypothesis)\n",
    "## PyAnnote DER and other metrics\n",
    "%matplotlib inline\n",
    "plot_der(hypothesis)\n"
   ]
  },
  {
   "cell_type": "code",
   "execution_count": null,
   "id": "5ec0c5b9-d5cf-4f88-b926-3852f85a29ac",
   "metadata": {},
   "outputs": [],
   "source": [
    "%matplotlib inline\n",
    "plot_original_audio(speaker_segments)\n"
   ]
  },
  {
   "cell_type": "code",
   "execution_count": null,
   "id": "b6a771a2-f1b4-417d-85d3-9432a42913bb",
   "metadata": {},
   "outputs": [],
   "source": [
    "%matplotlib inline\n",
    "plot_ground_truth()\n"
   ]
  },
  {
   "cell_type": "code",
   "execution_count": null,
   "id": "6cba8bb2-a4fd-457b-a3d0-b39fe15942b4",
   "metadata": {},
   "outputs": [],
   "source": [
    "## Diarization results: audios of unique speakers"
   ]
  },
  {
   "cell_type": "code",
   "execution_count": null,
   "id": "fec193a3-e498-4f3d-81e3-582496b72f7b",
   "metadata": {},
   "outputs": [],
   "source": [
    "for speaker_id, segs in groupby(sorted(speaker_segments, key=lambda x: x['speake\n",
    "r_id']), lambda x: x['speaker_id']):\n",
    " print(speaker_id)\n",
    " audio = np.concatenate([wav[s['start']:s['end']] for s in segs], axis=0)\n",
    " print(audio.shape)\n",
    " display(Audio(audio, rate=SR))"
   ]
  }
 ],
 "metadata": {
  "kernelspec": {
   "display_name": "Python 3 (ipykernel)",
   "language": "python",
   "name": "python3"
  },
  "language_info": {
   "codemirror_mode": {
    "name": "ipython",
    "version": 3
   },
   "file_extension": ".py",
   "mimetype": "text/x-python",
   "name": "python",
   "nbconvert_exporter": "python",
   "pygments_lexer": "ipython3",
   "version": "3.9.12"
  }
 },
 "nbformat": 4,
 "nbformat_minor": 5
}
